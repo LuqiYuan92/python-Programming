{
 "cells": [
  {
   "cell_type": "code",
   "execution_count": 6,
   "metadata": {},
   "outputs": [
    {
     "name": "stdout",
     "output_type": "stream",
     "text": [
      "before 1234\n",
      "after 56\n"
     ]
    }
   ],
   "source": [
    "result='123456'\n",
    "print('before',result[0:-2])\n",
    "print('after',result[-2:])"
   ]
  },
  {
   "cell_type": "code",
   "execution_count": 10,
   "metadata": {},
   "outputs": [
    {
     "name": "stdout",
     "output_type": "stream",
     "text": [
      "num 5620492334958379 p 53\n",
      "result1: 10011111101111100111011011001000101101000011100101011\n",
      "binary2: 10011111101111100111011011001000101101000011100101011 first  second 1001111110111110011101101100100010110100001110010101\n",
      "53\n"
     ]
    }
   ],
   "source": [
    "#convert decimal fraction to binary fraction\n",
    "x=0.624\n",
    "p=0\n",
    "# %1 grab the decimal part only\n",
    "# find power of 2 that will make the decimal part an integer\n",
    "while ((2**p)*x)%1!=0:\n",
    "    p+=1\n",
    "num=int(x*(2**p))\n",
    "\n",
    "print('num',num,'p' ,p)\n",
    "\n",
    "result=''\n",
    "if num==0:\n",
    "    result='0'\n",
    "#encode as binary number\n",
    "while num>0:\n",
    "    result=str(num%2)+result\n",
    "    num=num//2\n",
    "\n",
    "print('result1:',result)\n",
    "\n",
    "# add padding 0s\n",
    "for i in range(p-len(result)):\n",
    "    result='0'+result\n",
    "\n",
    "print('binary2:',result,'first',result[0:-p],'second',result[-p:-1])\n",
    "# add decimal point\n",
    "#right shift p times\n",
    "result=result[0:-p]+'.'+result[-p:]\n",
    "\n",
    "\n",
    "\n",
    "\n",
    "count=0\n",
    "binary='10011111101111100111011011001000101101000011100101011'\n",
    "for b in range(len(binary)):\n",
    "    count+=1\n",
    "print(count)\n",
    "    "
   ]
  },
  {
   "cell_type": "code",
   "execution_count": 20,
   "metadata": {},
   "outputs": [
    {
     "name": "stdout",
     "output_type": "stream",
     "text": [
      "numer of guess 2330687\n",
      "failed on square root of 54321,  last guess was: 233.06870000661354\n",
      "last guess squared is: 54321.01892277282\n"
     ]
    }
   ],
   "source": [
    "#Guess and check algorithm\n",
    "# do not === to compare float\n",
    "\n",
    "x=54321\n",
    "epsilon=0.01\n",
    "guess=0.0\n",
    "num_guesses=0\n",
    "increment=epsilon**2\n",
    "\n",
    "#stop when u past the x or the guess is close enough to the square root\n",
    "#the guess jumped over the square root with larger difference with x than the epsilon that cause infinite loop\n",
    "while abs(guess**2-x)>=epsilon and guess**2<=x:\n",
    "    guess+=increment\n",
    "    num_guesses+=1\n",
    "print('numer of guess',num_guesses)\n",
    "if abs(guess**2-x)>=epsilon:\n",
    "    print(f'failed on square root of {x},  last guess was: {guess}')\n",
    "    print(f'last guess squared is: {guess**2}')\n",
    "else:  \n",
    "    print('succeeded:',x)"
   ]
  }
 ],
 "metadata": {
  "kernelspec": {
   "display_name": "myproject_kernel",
   "language": "python",
   "name": "myproject_kernel"
  },
  "language_info": {
   "codemirror_mode": {
    "name": "ipython",
    "version": 3
   },
   "file_extension": ".py",
   "mimetype": "text/x-python",
   "name": "python",
   "nbconvert_exporter": "python",
   "pygments_lexer": "ipython3",
   "version": "3.12.6"
  }
 },
 "nbformat": 4,
 "nbformat_minor": 2
}
