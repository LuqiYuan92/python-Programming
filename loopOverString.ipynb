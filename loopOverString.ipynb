{
 "cells": [
  {
   "cell_type": "code",
   "execution_count": 5,
   "metadata": {},
   "outputs": [
    {
     "name": "stdout",
     "output_type": "stream",
     "text": [
      "100\n"
     ]
    }
   ],
   "source": [
    "\n",
    "#converet decimal to binary\n",
    "result=''\n",
    "decimal=int(input('enter the decimal number:'))\n",
    "negative_flag=False\n",
    "\n",
    "if decimal<0:\n",
    "    negative_flag=True\n",
    "    decimal=abs(decimal)\n",
    "    \n",
    "if decimal==0:\n",
    "    result='0'\n",
    "    \n",
    "while decimal>0:\n",
    "    #add the remainder to the left of the result\n",
    "    result=str(decimal%2)+result\n",
    "    #result+=str(decimal%2)\n",
    "    decimal=decimal//2\n",
    "if negative_flag:\n",
    "    result='-'+result\n",
    "    \n",
    "print(result)"
   ]
  },
  {
   "cell_type": "code",
   "execution_count": 8,
   "metadata": {},
   "outputs": [
    {
     "name": "stdout",
     "output_type": "stream",
     "text": [
      "10 is not a perfect square\n"
     ]
    }
   ],
   "source": [
    "#guess and check algorithm\n",
    "#guess the square root of a number\n",
    "x=int(input('enter an integer:'))\n",
    "ans=0\n",
    "isNeg=False\n",
    "if x<0:\n",
    "    isNeg=True\n",
    "while ans**2<x:\n",
    "    ans+=1\n",
    "if ans**2==x:\n",
    "    print(f'square root of {x} is {ans}')\n",
    "else:\n",
    "    print(f'{x} is not a perfect square')\n",
    "    if isNeg:\n",
    "        print('just checking... did you mean', abs(x),'?')\n",
    "    "
   ]
  },
  {
   "cell_type": "code",
   "execution_count": 19,
   "metadata": {},
   "outputs": [
    {
     "name": "stdout",
     "output_type": "stream",
     "text": [
      "60 is not a perfect cube\n"
     ]
    }
   ],
   "source": [
    "#check if a number is a perfect cube\n",
    "#guess and check algorithm\n",
    "#guess the cube root of a number\n",
    "cubic=int(input('enter an integer:'))\n",
    "guess=0\n",
    "negative=False\n",
    "\n",
    "if cubic<0:\n",
    "    negative=True\n",
    "    cubic=abs(cubic)\n",
    "while guess**3<abs(cubic):\n",
    "    guess+=1\n",
    "if guess**3!=abs(cubic):\n",
    "    print(f'{cubic} is not a perfect cube')\n",
    "elif guess**3==abs(cubic) and not negative:\n",
    "    print(f'cube root of {cubic} is {guess}')\n",
    "elif negative:\n",
    "    print(f'cube root of -{cubic} is -{guess}')\n",
    "\n",
    "    "
   ]
  },
  {
   "cell_type": "code",
   "execution_count": 15,
   "metadata": {},
   "outputs": [
    {
     "name": "stdout",
     "output_type": "stream",
     "text": [
      "t1:510,t2:255,t3:235\n"
     ]
    }
   ],
   "source": [
    "#check the tickets\n",
    "#t1+t2+t3=1000\n",
    "#t1=2t2\n",
    "#t3=t2-20\n",
    "total=1000\n",
    "\n",
    "t1,t2,t3=0,0,0\n",
    "for t2 in range(total+1):\n",
    "    t3=max(t2-20,0)\n",
    "    t1=2*t2\n",
    "    if(t1+t2+t3==total):\n",
    "        print(f't1:{t1},t2:{t2},t3:{t3}')"
   ]
  }
 ],
 "metadata": {
  "kernelspec": {
   "display_name": "myproject_kernel",
   "language": "python",
   "name": "myproject_kernel"
  },
  "language_info": {
   "codemirror_mode": {
    "name": "ipython",
    "version": 3
   },
   "file_extension": ".py",
   "mimetype": "text/x-python",
   "name": "python",
   "nbconvert_exporter": "python",
   "pygments_lexer": "ipython3",
   "version": "3.12.6"
  }
 },
 "nbformat": 4,
 "nbformat_minor": 2
}
