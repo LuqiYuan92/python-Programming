{
 "cells": [
  {
   "cell_type": "code",
   "execution_count": 3,
   "metadata": {},
   "outputs": [],
   "source": [
    "class Solution:\n",
    "    def isPalindrome(self, x:int)->bool:\n",
    "        reverse=0\n",
    "        original=x\n",
    "        \n",
    "        if  x<0:\n",
    "            return False\n",
    "       \n",
    "        while x>0:\n",
    "            reverse=reverse*10+x%10\n",
    "            x=x//10\n",
    "        \n",
    "        return reverse==original\n",
    "    \n",
    "    \n",
    "\n",
    "        \n"
   ]
  },
  {
   "cell_type": "code",
   "execution_count": 6,
   "metadata": {},
   "outputs": [
    {
     "name": "stdout",
     "output_type": "stream",
     "text": [
      "False\n"
     ]
    }
   ],
   "source": [
    "number=int(input(\"Enter the number to check palindrome or not: \"))\n",
    "sol=Solution()\n",
    "print(sol.isPalindrome(number))"
   ]
  },
  {
   "cell_type": "code",
   "execution_count": 8,
   "metadata": {},
   "outputs": [
    {
     "name": "stdout",
     "output_type": "stream",
     "text": [
      "True\n"
     ]
    }
   ],
   "source": [
    "verb=input(\"Do you want to continue? (yes/no): \")\n",
    "while verb==\"yes\":\n",
    "    number=int(input(\"Enter the number to check palindrome or not: \"))\n",
    "    print(sol.isPalindrome(number))\n",
    "    verb=input(\"Do you want to continue? (yes/no): \")"
   ]
  },
  {
   "cell_type": "code",
   "execution_count": 9,
   "metadata": {},
   "outputs": [
    {
     "data": {
      "text/plain": [
       "True"
      ]
     },
     "execution_count": 9,
     "metadata": {},
     "output_type": "execute_result"
    }
   ],
   "source": [
    "(2<3) and (3>1)"
   ]
  },
  {
   "cell_type": "code",
   "execution_count": 32,
   "metadata": {},
   "outputs": [
    {
     "name": "stdout",
     "output_type": "stream",
     "text": [
      "reversed olleh\n",
      "olle\n"
     ]
    }
   ],
   "source": [
    "sayhi=\"hello\"\n",
    "print('reversed '+str[::-1])\n",
    "print(str[(len(str)-1):0:-1])"
   ]
  },
  {
   "cell_type": "code",
   "execution_count": 16,
   "metadata": {},
   "outputs": [
    {
     "name": "stdout",
     "output_type": "stream",
     "text": [
      "True True\n",
      "equal\n"
     ]
    }
   ],
   "source": [
    "secret=7\n",
    "num=int(input('enter the number:'))\n",
    "equal=secret==num\n",
    "print(secret==num,equal)\n",
    "\n",
    "if secret==num:\n",
    "    print('equal')\n",
    "elif secret<num:\n",
    "    print('too high')\n",
    "else:\n",
    "    print('too low')\n"
   ]
  },
  {
   "cell_type": "code",
   "execution_count": 21,
   "metadata": {},
   "outputs": [
    {
     "name": "stdout",
     "output_type": "stream",
     "text": [
      "1\n",
      "2\n",
      "sad face 2\n"
     ]
    }
   ],
   "source": [
    "where=input('go left or right?')\n",
    "count=0\n",
    "\n",
    "while where=='right':\n",
    "    count+=1\n",
    "    print(count)\n",
    "    if count>1:\n",
    "        print('sad face',count)\n",
    "        break\n",
    "    where=input('go left or right?')\n",
    "\n",
    "    "
   ]
  },
  {
   "cell_type": "code",
   "execution_count": 16,
   "metadata": {},
   "outputs": [
    {
     "name": "stdout",
     "output_type": "stream",
     "text": [
      "10\n",
      "9\n",
      "8\n",
      "7\n",
      "6\n",
      "5\n",
      "4\n",
      "3\n",
      "2\n"
     ]
    }
   ],
   "source": [
    "for i in range(10,1,-1):\n",
    "    print(i)"
   ]
  },
  {
   "cell_type": "code",
   "execution_count": 28,
   "metadata": {},
   "outputs": [
    {
     "name": "stdout",
     "output_type": "stream",
     "text": [
      "secret number not found\n"
     ]
    }
   ],
   "source": [
    "secret_num=12\n",
    "found_flag=False\n",
    "\n",
    "for n in range(1,11):\n",
    "    if secret_num==n:\n",
    "        found_flag=True\n",
    "        print(f'found secret number: {secret_num}')\n",
    "        break\n",
    "  \n",
    "if not found_flag:\n",
    "    print('secret number not found')\n",
    "    "
   ]
  },
  {
   "cell_type": "code",
   "execution_count": 19,
   "metadata": {},
   "outputs": [
    {
     "name": "stdout",
     "output_type": "stream",
     "text": [
      "3\n"
     ]
    }
   ],
   "source": [
    "#print the number of unique letters in string \n",
    "s='abcabc'\n",
    "seen=[]\n",
    "for c in s:\n",
    "    if c not in seen:\n",
    "        seen.append(c)\n",
    "print(len(seen))\n",
    "        "
   ]
  },
  {
   "cell_type": "code",
   "execution_count": 20,
   "metadata": {},
   "outputs": [
    {
     "data": {
      "text/plain": [
       "False"
      ]
     },
     "execution_count": 20,
     "metadata": {},
     "output_type": "execute_result"
    }
   ],
   "source": [
    "3!=3"
   ]
  },
  {
   "cell_type": "code",
   "execution_count": 24,
   "metadata": {},
   "outputs": [
    {
     "name": "stdout",
     "output_type": "stream",
     "text": [
      "3\n",
      "0\n"
     ]
    }
   ],
   "source": [
    "#print the number of unique letters in string \n",
    "s='abcabc'\n",
    "seen=''\n",
    "count=0\n",
    "\n",
    "for index in range(len(s)):\n",
    "    if s[index] not in seen:\n",
    "        seen+=s[index]\n",
    "print(len(seen))\n",
    "\n",
    "\n",
    "for char in s:\n",
    "    if char not in seen:\n",
    "        seen+=char\n",
    "        count+=1\n",
    "    else:\n",
    "        pass\n",
    "print(count)\n"
   ]
  }
 ],
 "metadata": {
  "kernelspec": {
   "display_name": "myproject_kernel",
   "language": "python",
   "name": "myproject_kernel"
  },
  "language_info": {
   "codemirror_mode": {
    "name": "ipython",
    "version": 3
   },
   "file_extension": ".py",
   "mimetype": "text/x-python",
   "name": "python",
   "nbconvert_exporter": "python",
   "pygments_lexer": "ipython3",
   "version": "3.12.6"
  }
 },
 "nbformat": 4,
 "nbformat_minor": 2
}
